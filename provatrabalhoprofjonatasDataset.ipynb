{
  "nbformat": 4,
  "nbformat_minor": 0,
  "metadata": {
    "colab": {
      "provenance": [],
      "include_colab_link": true
    },
    "kernelspec": {
      "name": "python3",
      "display_name": "Python 3"
    },
    "language_info": {
      "name": "python"
    }
  },
  "cells": [
    {
      "cell_type": "markdown",
      "metadata": {
        "id": "view-in-github",
        "colab_type": "text"
      },
      "source": [
        "<a href=\"https://colab.research.google.com/github/BrendaBomfim95/colab/blob/main/provatrabalhoprofjonatasDataset.ipynb\" target=\"_parent\"><img src=\"https://colab.research.google.com/assets/colab-badge.svg\" alt=\"Open In Colab\"/></a>"
      ]
    },
    {
      "cell_type": "markdown",
      "source": [
        "#**Contexto do Problema**"
      ],
      "metadata": {
        "id": "_0Z-CsmJcx48"
      }
    },
    {
      "cell_type": "markdown",
      "source": [
        "Utilizar o aprendizado de máquina para predição do valor de um imóvel."
      ],
      "metadata": {
        "id": "pUj2Y70fdIQ3"
      }
    },
    {
      "cell_type": "markdown",
      "source": [
        "##**Data Set**"
      ],
      "metadata": {
        "id": "4Bn_yHs5dZ_L"
      }
    },
    {
      "cell_type": "markdown",
      "source": [
        "**Localização de Data Set no site kaggle**<br>\n",
        "https://www.kaggle.com/datasets/ashishkumarjayswal/brasil-real-estate\n",
        "\n",
        "**Sobre o data set**<br>\n",
        "O conjunto de dados de listagens de propriedades contém informações sobre imóveis disponíveis para venda ou aluguel no Brasil. Ele inclui detalhes como tipo de propriedade (apartamento, casa, propriedade comercial), localização (cidade, bairro), tamanho (metragem quadrada, número de cômodos), preço, comodidades e informações de contato do proprietário do imóvel ou corretor imobiliário. Este conjunto de dados pode ser usado para análise de mercado, avaliação de propriedades e identificação de tendências no mercado imobiliário.\n",
        "\n",
        "**_Objetivo do problema:_**<br>\n",
        "\n",
        "O conjunto de dados de preços de vendas e aluguéis fornece informações sobre os preços de imóveis no Brasil. Ele inclui dados sobre transações imobiliárias, incluindo preços de venda e preços de aluguel por metro quadrado ou por mês. Este conjunto de dados pode ser usado para analisar tendências de preços, comparar preços de imóveis em diferentes regiões e identificar áreas com alta ou baixa demanda do mercado imobiliário.\n",
        "\n"
      ],
      "metadata": {
        "id": "6dNs76yOeCZ8"
      }
    },
    {
      "cell_type": "markdown",
      "source": [
        "#**1. Importação de Bibliotecas**"
      ],
      "metadata": {
        "id": "MQ2s2BeSf9T2"
      }
    },
    {
      "cell_type": "code",
      "source": [
        "# Importar bibliotecas\n",
        "import pandas as pd"
      ],
      "metadata": {
        "id": "Sg9TKl7XgKKa"
      },
      "execution_count": null,
      "outputs": []
    },
    {
      "cell_type": "code",
      "source": [
        "# Criar o Data Set\n",
        "df = pd.read_csv('/content/Brasile-real-estate-dataset.csv', encoding='latin1')\n"
      ],
      "metadata": {
        "id": "V0atYoPggqmT"
      },
      "execution_count": null,
      "outputs": []
    },
    {
      "cell_type": "markdown",
      "source": [
        "#**2. Pequena Análise exploratória (EDA)**"
      ],
      "metadata": {
        "id": "Yvg_XPlKpYzH"
      }
    },
    {
      "cell_type": "markdown",
      "source": [
        "Não há uma forma definitiva de realizar a análise. O objetivo é se familiarizar o máximo possível com os dados.<br>\n",
        "Segue algumas orientações."
      ],
      "metadata": {
        "id": "DKw_lJUxqKYd"
      }
    },
    {
      "cell_type": "markdown",
      "source": [
        "##2.1 Extrutura dos dados e Visualização de algumas instâncias"
      ],
      "metadata": {
        "id": "a75QZOUBqkbT"
      }
    },
    {
      "cell_type": "code",
      "source": [
        "# Imprimir o Data Set\n",
        "#print(df)\n",
        "df"
      ],
      "metadata": {
        "colab": {
          "base_uri": "https://localhost:8080/",
          "height": 424
        },
        "id": "_S1foN4fhVFf",
        "outputId": "49843c8e-fd63-47a0-8909-e8346e1dcb02"
      },
      "execution_count": null,
      "outputs": [
        {
          "output_type": "execute_result",
          "data": {
            "text/plain": [
              "       Unnamed: 0 property_type       state     region        lat        lon  \\\n",
              "0               1     apartment  Pernambuco  Northeast  -8.134204 -34.906326   \n",
              "1               2     apartment  Pernambuco  Northeast  -8.126664 -34.903924   \n",
              "2               3     apartment  Pernambuco  Northeast  -8.125550 -34.907601   \n",
              "3               4     apartment  Pernambuco  Northeast  -8.120249 -34.895920   \n",
              "4               5     apartment  Pernambuco  Northeast  -8.142666 -34.906906   \n",
              "...           ...           ...         ...        ...        ...        ...   \n",
              "12828       12829         house   So Paulo  Southeast -23.587495 -46.559401   \n",
              "12829       12830     apartment   So Paulo  Southeast -23.522029 -46.189290   \n",
              "12830       12831     apartment   So Paulo  Southeast -23.526443 -46.529182   \n",
              "12831       12832         house   Tocantins      North  -8.848399 -48.511164   \n",
              "12832       12833     apartment   Tocantins      North -10.249091 -48.324286   \n",
              "\n",
              "       area_m2  price_brl  \n",
              "0         72.0  414222.98  \n",
              "1        136.0  848408.53  \n",
              "2         75.0  299438.28  \n",
              "3        187.0  848408.53  \n",
              "4         80.0  464129.36  \n",
              "...        ...        ...  \n",
              "12828    250.0  429194.89  \n",
              "12829     55.0  252398.80  \n",
              "12830     57.0  319400.84  \n",
              "12831      NaN  529007.65  \n",
              "12832     70.0  289457.01  \n",
              "\n",
              "[12833 rows x 8 columns]"
            ],
            "text/html": [
              "\n",
              "  <div id=\"df-223c58a1-b0fd-4e63-a179-5f49d6891caf\" class=\"colab-df-container\">\n",
              "    <div>\n",
              "<style scoped>\n",
              "    .dataframe tbody tr th:only-of-type {\n",
              "        vertical-align: middle;\n",
              "    }\n",
              "\n",
              "    .dataframe tbody tr th {\n",
              "        vertical-align: top;\n",
              "    }\n",
              "\n",
              "    .dataframe thead th {\n",
              "        text-align: right;\n",
              "    }\n",
              "</style>\n",
              "<table border=\"1\" class=\"dataframe\">\n",
              "  <thead>\n",
              "    <tr style=\"text-align: right;\">\n",
              "      <th></th>\n",
              "      <th>Unnamed: 0</th>\n",
              "      <th>property_type</th>\n",
              "      <th>state</th>\n",
              "      <th>region</th>\n",
              "      <th>lat</th>\n",
              "      <th>lon</th>\n",
              "      <th>area_m2</th>\n",
              "      <th>price_brl</th>\n",
              "    </tr>\n",
              "  </thead>\n",
              "  <tbody>\n",
              "    <tr>\n",
              "      <th>0</th>\n",
              "      <td>1</td>\n",
              "      <td>apartment</td>\n",
              "      <td>Pernambuco</td>\n",
              "      <td>Northeast</td>\n",
              "      <td>-8.134204</td>\n",
              "      <td>-34.906326</td>\n",
              "      <td>72.0</td>\n",
              "      <td>414222.98</td>\n",
              "    </tr>\n",
              "    <tr>\n",
              "      <th>1</th>\n",
              "      <td>2</td>\n",
              "      <td>apartment</td>\n",
              "      <td>Pernambuco</td>\n",
              "      <td>Northeast</td>\n",
              "      <td>-8.126664</td>\n",
              "      <td>-34.903924</td>\n",
              "      <td>136.0</td>\n",
              "      <td>848408.53</td>\n",
              "    </tr>\n",
              "    <tr>\n",
              "      <th>2</th>\n",
              "      <td>3</td>\n",
              "      <td>apartment</td>\n",
              "      <td>Pernambuco</td>\n",
              "      <td>Northeast</td>\n",
              "      <td>-8.125550</td>\n",
              "      <td>-34.907601</td>\n",
              "      <td>75.0</td>\n",
              "      <td>299438.28</td>\n",
              "    </tr>\n",
              "    <tr>\n",
              "      <th>3</th>\n",
              "      <td>4</td>\n",
              "      <td>apartment</td>\n",
              "      <td>Pernambuco</td>\n",
              "      <td>Northeast</td>\n",
              "      <td>-8.120249</td>\n",
              "      <td>-34.895920</td>\n",
              "      <td>187.0</td>\n",
              "      <td>848408.53</td>\n",
              "    </tr>\n",
              "    <tr>\n",
              "      <th>4</th>\n",
              "      <td>5</td>\n",
              "      <td>apartment</td>\n",
              "      <td>Pernambuco</td>\n",
              "      <td>Northeast</td>\n",
              "      <td>-8.142666</td>\n",
              "      <td>-34.906906</td>\n",
              "      <td>80.0</td>\n",
              "      <td>464129.36</td>\n",
              "    </tr>\n",
              "    <tr>\n",
              "      <th>...</th>\n",
              "      <td>...</td>\n",
              "      <td>...</td>\n",
              "      <td>...</td>\n",
              "      <td>...</td>\n",
              "      <td>...</td>\n",
              "      <td>...</td>\n",
              "      <td>...</td>\n",
              "      <td>...</td>\n",
              "    </tr>\n",
              "    <tr>\n",
              "      <th>12828</th>\n",
              "      <td>12829</td>\n",
              "      <td>house</td>\n",
              "      <td>So Paulo</td>\n",
              "      <td>Southeast</td>\n",
              "      <td>-23.587495</td>\n",
              "      <td>-46.559401</td>\n",
              "      <td>250.0</td>\n",
              "      <td>429194.89</td>\n",
              "    </tr>\n",
              "    <tr>\n",
              "      <th>12829</th>\n",
              "      <td>12830</td>\n",
              "      <td>apartment</td>\n",
              "      <td>So Paulo</td>\n",
              "      <td>Southeast</td>\n",
              "      <td>-23.522029</td>\n",
              "      <td>-46.189290</td>\n",
              "      <td>55.0</td>\n",
              "      <td>252398.80</td>\n",
              "    </tr>\n",
              "    <tr>\n",
              "      <th>12830</th>\n",
              "      <td>12831</td>\n",
              "      <td>apartment</td>\n",
              "      <td>So Paulo</td>\n",
              "      <td>Southeast</td>\n",
              "      <td>-23.526443</td>\n",
              "      <td>-46.529182</td>\n",
              "      <td>57.0</td>\n",
              "      <td>319400.84</td>\n",
              "    </tr>\n",
              "    <tr>\n",
              "      <th>12831</th>\n",
              "      <td>12832</td>\n",
              "      <td>house</td>\n",
              "      <td>Tocantins</td>\n",
              "      <td>North</td>\n",
              "      <td>-8.848399</td>\n",
              "      <td>-48.511164</td>\n",
              "      <td>NaN</td>\n",
              "      <td>529007.65</td>\n",
              "    </tr>\n",
              "    <tr>\n",
              "      <th>12832</th>\n",
              "      <td>12833</td>\n",
              "      <td>apartment</td>\n",
              "      <td>Tocantins</td>\n",
              "      <td>North</td>\n",
              "      <td>-10.249091</td>\n",
              "      <td>-48.324286</td>\n",
              "      <td>70.0</td>\n",
              "      <td>289457.01</td>\n",
              "    </tr>\n",
              "  </tbody>\n",
              "</table>\n",
              "<p>12833 rows × 8 columns</p>\n",
              "</div>\n",
              "    <div class=\"colab-df-buttons\">\n",
              "\n",
              "  <div class=\"colab-df-container\">\n",
              "    <button class=\"colab-df-convert\" onclick=\"convertToInteractive('df-223c58a1-b0fd-4e63-a179-5f49d6891caf')\"\n",
              "            title=\"Convert this dataframe to an interactive table.\"\n",
              "            style=\"display:none;\">\n",
              "\n",
              "  <svg xmlns=\"http://www.w3.org/2000/svg\" height=\"24px\" viewBox=\"0 -960 960 960\">\n",
              "    <path d=\"M120-120v-720h720v720H120Zm60-500h600v-160H180v160Zm220 220h160v-160H400v160Zm0 220h160v-160H400v160ZM180-400h160v-160H180v160Zm440 0h160v-160H620v160ZM180-180h160v-160H180v160Zm440 0h160v-160H620v160Z\"/>\n",
              "  </svg>\n",
              "    </button>\n",
              "\n",
              "  <style>\n",
              "    .colab-df-container {\n",
              "      display:flex;\n",
              "      gap: 12px;\n",
              "    }\n",
              "\n",
              "    .colab-df-convert {\n",
              "      background-color: #E8F0FE;\n",
              "      border: none;\n",
              "      border-radius: 50%;\n",
              "      cursor: pointer;\n",
              "      display: none;\n",
              "      fill: #1967D2;\n",
              "      height: 32px;\n",
              "      padding: 0 0 0 0;\n",
              "      width: 32px;\n",
              "    }\n",
              "\n",
              "    .colab-df-convert:hover {\n",
              "      background-color: #E2EBFA;\n",
              "      box-shadow: 0px 1px 2px rgba(60, 64, 67, 0.3), 0px 1px 3px 1px rgba(60, 64, 67, 0.15);\n",
              "      fill: #174EA6;\n",
              "    }\n",
              "\n",
              "    .colab-df-buttons div {\n",
              "      margin-bottom: 4px;\n",
              "    }\n",
              "\n",
              "    [theme=dark] .colab-df-convert {\n",
              "      background-color: #3B4455;\n",
              "      fill: #D2E3FC;\n",
              "    }\n",
              "\n",
              "    [theme=dark] .colab-df-convert:hover {\n",
              "      background-color: #434B5C;\n",
              "      box-shadow: 0px 1px 3px 1px rgba(0, 0, 0, 0.15);\n",
              "      filter: drop-shadow(0px 1px 2px rgba(0, 0, 0, 0.3));\n",
              "      fill: #FFFFFF;\n",
              "    }\n",
              "  </style>\n",
              "\n",
              "    <script>\n",
              "      const buttonEl =\n",
              "        document.querySelector('#df-223c58a1-b0fd-4e63-a179-5f49d6891caf button.colab-df-convert');\n",
              "      buttonEl.style.display =\n",
              "        google.colab.kernel.accessAllowed ? 'block' : 'none';\n",
              "\n",
              "      async function convertToInteractive(key) {\n",
              "        const element = document.querySelector('#df-223c58a1-b0fd-4e63-a179-5f49d6891caf');\n",
              "        const dataTable =\n",
              "          await google.colab.kernel.invokeFunction('convertToInteractive',\n",
              "                                                    [key], {});\n",
              "        if (!dataTable) return;\n",
              "\n",
              "        const docLinkHtml = 'Like what you see? Visit the ' +\n",
              "          '<a target=\"_blank\" href=https://colab.research.google.com/notebooks/data_table.ipynb>data table notebook</a>'\n",
              "          + ' to learn more about interactive tables.';\n",
              "        element.innerHTML = '';\n",
              "        dataTable['output_type'] = 'display_data';\n",
              "        await google.colab.output.renderOutput(dataTable, element);\n",
              "        const docLink = document.createElement('div');\n",
              "        docLink.innerHTML = docLinkHtml;\n",
              "        element.appendChild(docLink);\n",
              "      }\n",
              "    </script>\n",
              "  </div>\n",
              "\n",
              "\n",
              "<div id=\"df-f97c4512-b839-47c5-835f-843f65337815\">\n",
              "  <button class=\"colab-df-quickchart\" onclick=\"quickchart('df-f97c4512-b839-47c5-835f-843f65337815')\"\n",
              "            title=\"Suggest charts\"\n",
              "            style=\"display:none;\">\n",
              "\n",
              "<svg xmlns=\"http://www.w3.org/2000/svg\" height=\"24px\"viewBox=\"0 0 24 24\"\n",
              "     width=\"24px\">\n",
              "    <g>\n",
              "        <path d=\"M19 3H5c-1.1 0-2 .9-2 2v14c0 1.1.9 2 2 2h14c1.1 0 2-.9 2-2V5c0-1.1-.9-2-2-2zM9 17H7v-7h2v7zm4 0h-2V7h2v10zm4 0h-2v-4h2v4z\"/>\n",
              "    </g>\n",
              "</svg>\n",
              "  </button>\n",
              "\n",
              "<style>\n",
              "  .colab-df-quickchart {\n",
              "      --bg-color: #E8F0FE;\n",
              "      --fill-color: #1967D2;\n",
              "      --hover-bg-color: #E2EBFA;\n",
              "      --hover-fill-color: #174EA6;\n",
              "      --disabled-fill-color: #AAA;\n",
              "      --disabled-bg-color: #DDD;\n",
              "  }\n",
              "\n",
              "  [theme=dark] .colab-df-quickchart {\n",
              "      --bg-color: #3B4455;\n",
              "      --fill-color: #D2E3FC;\n",
              "      --hover-bg-color: #434B5C;\n",
              "      --hover-fill-color: #FFFFFF;\n",
              "      --disabled-bg-color: #3B4455;\n",
              "      --disabled-fill-color: #666;\n",
              "  }\n",
              "\n",
              "  .colab-df-quickchart {\n",
              "    background-color: var(--bg-color);\n",
              "    border: none;\n",
              "    border-radius: 50%;\n",
              "    cursor: pointer;\n",
              "    display: none;\n",
              "    fill: var(--fill-color);\n",
              "    height: 32px;\n",
              "    padding: 0;\n",
              "    width: 32px;\n",
              "  }\n",
              "\n",
              "  .colab-df-quickchart:hover {\n",
              "    background-color: var(--hover-bg-color);\n",
              "    box-shadow: 0 1px 2px rgba(60, 64, 67, 0.3), 0 1px 3px 1px rgba(60, 64, 67, 0.15);\n",
              "    fill: var(--button-hover-fill-color);\n",
              "  }\n",
              "\n",
              "  .colab-df-quickchart-complete:disabled,\n",
              "  .colab-df-quickchart-complete:disabled:hover {\n",
              "    background-color: var(--disabled-bg-color);\n",
              "    fill: var(--disabled-fill-color);\n",
              "    box-shadow: none;\n",
              "  }\n",
              "\n",
              "  .colab-df-spinner {\n",
              "    border: 2px solid var(--fill-color);\n",
              "    border-color: transparent;\n",
              "    border-bottom-color: var(--fill-color);\n",
              "    animation:\n",
              "      spin 1s steps(1) infinite;\n",
              "  }\n",
              "\n",
              "  @keyframes spin {\n",
              "    0% {\n",
              "      border-color: transparent;\n",
              "      border-bottom-color: var(--fill-color);\n",
              "      border-left-color: var(--fill-color);\n",
              "    }\n",
              "    20% {\n",
              "      border-color: transparent;\n",
              "      border-left-color: var(--fill-color);\n",
              "      border-top-color: var(--fill-color);\n",
              "    }\n",
              "    30% {\n",
              "      border-color: transparent;\n",
              "      border-left-color: var(--fill-color);\n",
              "      border-top-color: var(--fill-color);\n",
              "      border-right-color: var(--fill-color);\n",
              "    }\n",
              "    40% {\n",
              "      border-color: transparent;\n",
              "      border-right-color: var(--fill-color);\n",
              "      border-top-color: var(--fill-color);\n",
              "    }\n",
              "    60% {\n",
              "      border-color: transparent;\n",
              "      border-right-color: var(--fill-color);\n",
              "    }\n",
              "    80% {\n",
              "      border-color: transparent;\n",
              "      border-right-color: var(--fill-color);\n",
              "      border-bottom-color: var(--fill-color);\n",
              "    }\n",
              "    90% {\n",
              "      border-color: transparent;\n",
              "      border-bottom-color: var(--fill-color);\n",
              "    }\n",
              "  }\n",
              "</style>\n",
              "\n",
              "  <script>\n",
              "    async function quickchart(key) {\n",
              "      const quickchartButtonEl =\n",
              "        document.querySelector('#' + key + ' button');\n",
              "      quickchartButtonEl.disabled = true;  // To prevent multiple clicks.\n",
              "      quickchartButtonEl.classList.add('colab-df-spinner');\n",
              "      try {\n",
              "        const charts = await google.colab.kernel.invokeFunction(\n",
              "            'suggestCharts', [key], {});\n",
              "      } catch (error) {\n",
              "        console.error('Error during call to suggestCharts:', error);\n",
              "      }\n",
              "      quickchartButtonEl.classList.remove('colab-df-spinner');\n",
              "      quickchartButtonEl.classList.add('colab-df-quickchart-complete');\n",
              "    }\n",
              "    (() => {\n",
              "      let quickchartButtonEl =\n",
              "        document.querySelector('#df-f97c4512-b839-47c5-835f-843f65337815 button');\n",
              "      quickchartButtonEl.style.display =\n",
              "        google.colab.kernel.accessAllowed ? 'block' : 'none';\n",
              "    })();\n",
              "  </script>\n",
              "</div>\n",
              "\n",
              "  <div id=\"id_10f4023d-f7bf-4d26-958a-cab89940b362\">\n",
              "    <style>\n",
              "      .colab-df-generate {\n",
              "        background-color: #E8F0FE;\n",
              "        border: none;\n",
              "        border-radius: 50%;\n",
              "        cursor: pointer;\n",
              "        display: none;\n",
              "        fill: #1967D2;\n",
              "        height: 32px;\n",
              "        padding: 0 0 0 0;\n",
              "        width: 32px;\n",
              "      }\n",
              "\n",
              "      .colab-df-generate:hover {\n",
              "        background-color: #E2EBFA;\n",
              "        box-shadow: 0px 1px 2px rgba(60, 64, 67, 0.3), 0px 1px 3px 1px rgba(60, 64, 67, 0.15);\n",
              "        fill: #174EA6;\n",
              "      }\n",
              "\n",
              "      [theme=dark] .colab-df-generate {\n",
              "        background-color: #3B4455;\n",
              "        fill: #D2E3FC;\n",
              "      }\n",
              "\n",
              "      [theme=dark] .colab-df-generate:hover {\n",
              "        background-color: #434B5C;\n",
              "        box-shadow: 0px 1px 3px 1px rgba(0, 0, 0, 0.15);\n",
              "        filter: drop-shadow(0px 1px 2px rgba(0, 0, 0, 0.3));\n",
              "        fill: #FFFFFF;\n",
              "      }\n",
              "    </style>\n",
              "    <button class=\"colab-df-generate\" onclick=\"generateWithVariable('df')\"\n",
              "            title=\"Generate code using this dataframe.\"\n",
              "            style=\"display:none;\">\n",
              "\n",
              "  <svg xmlns=\"http://www.w3.org/2000/svg\" height=\"24px\"viewBox=\"0 0 24 24\"\n",
              "       width=\"24px\">\n",
              "    <path d=\"M7,19H8.4L18.45,9,17,7.55,7,17.6ZM5,21V16.75L18.45,3.32a2,2,0,0,1,2.83,0l1.4,1.43a1.91,1.91,0,0,1,.58,1.4,1.91,1.91,0,0,1-.58,1.4L9.25,21ZM18.45,9,17,7.55Zm-12,3A5.31,5.31,0,0,0,4.9,8.1,5.31,5.31,0,0,0,1,6.5,5.31,5.31,0,0,0,4.9,4.9,5.31,5.31,0,0,0,6.5,1,5.31,5.31,0,0,0,8.1,4.9,5.31,5.31,0,0,0,12,6.5,5.46,5.46,0,0,0,6.5,12Z\"/>\n",
              "  </svg>\n",
              "    </button>\n",
              "    <script>\n",
              "      (() => {\n",
              "      const buttonEl =\n",
              "        document.querySelector('#id_10f4023d-f7bf-4d26-958a-cab89940b362 button.colab-df-generate');\n",
              "      buttonEl.style.display =\n",
              "        google.colab.kernel.accessAllowed ? 'block' : 'none';\n",
              "\n",
              "      buttonEl.onclick = () => {\n",
              "        google.colab.notebook.generateWithVariable('df');\n",
              "      }\n",
              "      })();\n",
              "    </script>\n",
              "  </div>\n",
              "\n",
              "    </div>\n",
              "  </div>\n"
            ],
            "application/vnd.google.colaboratory.intrinsic+json": {
              "type": "dataframe",
              "variable_name": "df",
              "summary": "{\n  \"name\": \"df\",\n  \"rows\": 12833,\n  \"fields\": [\n    {\n      \"column\": \"Unnamed: 0\",\n      \"properties\": {\n        \"dtype\": \"number\",\n        \"std\": 3704,\n        \"min\": 1,\n        \"max\": 12833,\n        \"num_unique_values\": 12833,\n        \"samples\": [\n          1622,\n          9924,\n          10606\n        ],\n        \"semantic_type\": \"\",\n        \"description\": \"\"\n      }\n    },\n    {\n      \"column\": \"property_type\",\n      \"properties\": {\n        \"dtype\": \"category\",\n        \"num_unique_values\": 2,\n        \"samples\": [\n          \"house\",\n          \"apartment\"\n        ],\n        \"semantic_type\": \"\",\n        \"description\": \"\"\n      }\n    },\n    {\n      \"column\": \"state\",\n      \"properties\": {\n        \"dtype\": \"category\",\n        \"num_unique_values\": 10,\n        \"samples\": [\n          \"S\\u008bo Paulo\",\n          \"Piau\\u0092\"\n        ],\n        \"semantic_type\": \"\",\n        \"description\": \"\"\n      }\n    },\n    {\n      \"column\": \"region\",\n      \"properties\": {\n        \"dtype\": \"category\",\n        \"num_unique_values\": 4,\n        \"samples\": [\n          \"South\",\n          \"North\"\n        ],\n        \"semantic_type\": \"\",\n        \"description\": \"\"\n      }\n    },\n    {\n      \"column\": \"lat\",\n      \"properties\": {\n        \"dtype\": \"number\",\n        \"std\": 5.377947300898666,\n        \"min\": -33.692432,\n        \"max\": -5.044685,\n        \"num_unique_values\": 6051,\n        \"samples\": [\n          -22.9732096,\n          -27.4394637\n        ],\n        \"semantic_type\": \"\",\n        \"description\": \"\"\n      }\n    },\n    {\n      \"column\": \"lon\",\n      \"properties\": {\n        \"dtype\": \"number\",\n        \"std\": 4.221204285975636,\n        \"min\": -63.90518435,\n        \"max\": -34.841721,\n        \"num_unique_values\": 5919,\n        \"samples\": [\n          -46.6026215,\n          -51.162544\n        ],\n        \"semantic_type\": \"\",\n        \"description\": \"\"\n      }\n    },\n    {\n      \"column\": \"area_m2\",\n      \"properties\": {\n        \"dtype\": \"number\",\n        \"std\": 47.22549578530196,\n        \"min\": 53.0,\n        \"max\": 252.0,\n        \"num_unique_values\": 200,\n        \"samples\": [\n          147.0,\n          73.0\n        ],\n        \"semantic_type\": \"\",\n        \"description\": \"\"\n      }\n    },\n    {\n      \"column\": \"price_brl\",\n      \"properties\": {\n        \"dtype\": \"number\",\n        \"std\": 347719.44533979206,\n        \"min\": 239550.63,\n        \"max\": 1676854.5,\n        \"num_unique_values\": 2267,\n        \"samples\": [\n          1060075.11,\n          469128.65\n        ],\n        \"semantic_type\": \"\",\n        \"description\": \"\"\n      }\n    }\n  ]\n}"
            }
          },
          "metadata": {},
          "execution_count": 7
        }
      ]
    },
    {
      "cell_type": "markdown",
      "source": [
        " **Uma outra forma de apresentar parte das instâncias é com o método Head() do Data Frame.**"
      ],
      "metadata": {
        "id": "drNhiH2arr7c"
      }
    },
    {
      "cell_type": "code",
      "source": [
        "# ele é como um cabeçalho só mostra as primeiras 5 linhas\n",
        "df.head()"
      ],
      "metadata": {
        "colab": {
          "base_uri": "https://localhost:8080/",
          "height": 206
        },
        "id": "R0Wo5swMr5q7",
        "outputId": "3c01c47b-61a5-4e7c-ba71-0ec6389aaa80"
      },
      "execution_count": null,
      "outputs": [
        {
          "output_type": "execute_result",
          "data": {
            "text/plain": [
              "   Unnamed: 0 property_type       state     region       lat        lon  \\\n",
              "0           1     apartment  Pernambuco  Northeast -8.134204 -34.906326   \n",
              "1           2     apartment  Pernambuco  Northeast -8.126664 -34.903924   \n",
              "2           3     apartment  Pernambuco  Northeast -8.125550 -34.907601   \n",
              "3           4     apartment  Pernambuco  Northeast -8.120249 -34.895920   \n",
              "4           5     apartment  Pernambuco  Northeast -8.142666 -34.906906   \n",
              "\n",
              "   area_m2  price_brl  \n",
              "0     72.0  414222.98  \n",
              "1    136.0  848408.53  \n",
              "2     75.0  299438.28  \n",
              "3    187.0  848408.53  \n",
              "4     80.0  464129.36  "
            ],
            "text/html": [
              "\n",
              "  <div id=\"df-e57262c1-02c1-4fae-8aa5-d6ba81ecfcbe\" class=\"colab-df-container\">\n",
              "    <div>\n",
              "<style scoped>\n",
              "    .dataframe tbody tr th:only-of-type {\n",
              "        vertical-align: middle;\n",
              "    }\n",
              "\n",
              "    .dataframe tbody tr th {\n",
              "        vertical-align: top;\n",
              "    }\n",
              "\n",
              "    .dataframe thead th {\n",
              "        text-align: right;\n",
              "    }\n",
              "</style>\n",
              "<table border=\"1\" class=\"dataframe\">\n",
              "  <thead>\n",
              "    <tr style=\"text-align: right;\">\n",
              "      <th></th>\n",
              "      <th>Unnamed: 0</th>\n",
              "      <th>property_type</th>\n",
              "      <th>state</th>\n",
              "      <th>region</th>\n",
              "      <th>lat</th>\n",
              "      <th>lon</th>\n",
              "      <th>area_m2</th>\n",
              "      <th>price_brl</th>\n",
              "    </tr>\n",
              "  </thead>\n",
              "  <tbody>\n",
              "    <tr>\n",
              "      <th>0</th>\n",
              "      <td>1</td>\n",
              "      <td>apartment</td>\n",
              "      <td>Pernambuco</td>\n",
              "      <td>Northeast</td>\n",
              "      <td>-8.134204</td>\n",
              "      <td>-34.906326</td>\n",
              "      <td>72.0</td>\n",
              "      <td>414222.98</td>\n",
              "    </tr>\n",
              "    <tr>\n",
              "      <th>1</th>\n",
              "      <td>2</td>\n",
              "      <td>apartment</td>\n",
              "      <td>Pernambuco</td>\n",
              "      <td>Northeast</td>\n",
              "      <td>-8.126664</td>\n",
              "      <td>-34.903924</td>\n",
              "      <td>136.0</td>\n",
              "      <td>848408.53</td>\n",
              "    </tr>\n",
              "    <tr>\n",
              "      <th>2</th>\n",
              "      <td>3</td>\n",
              "      <td>apartment</td>\n",
              "      <td>Pernambuco</td>\n",
              "      <td>Northeast</td>\n",
              "      <td>-8.125550</td>\n",
              "      <td>-34.907601</td>\n",
              "      <td>75.0</td>\n",
              "      <td>299438.28</td>\n",
              "    </tr>\n",
              "    <tr>\n",
              "      <th>3</th>\n",
              "      <td>4</td>\n",
              "      <td>apartment</td>\n",
              "      <td>Pernambuco</td>\n",
              "      <td>Northeast</td>\n",
              "      <td>-8.120249</td>\n",
              "      <td>-34.895920</td>\n",
              "      <td>187.0</td>\n",
              "      <td>848408.53</td>\n",
              "    </tr>\n",
              "    <tr>\n",
              "      <th>4</th>\n",
              "      <td>5</td>\n",
              "      <td>apartment</td>\n",
              "      <td>Pernambuco</td>\n",
              "      <td>Northeast</td>\n",
              "      <td>-8.142666</td>\n",
              "      <td>-34.906906</td>\n",
              "      <td>80.0</td>\n",
              "      <td>464129.36</td>\n",
              "    </tr>\n",
              "  </tbody>\n",
              "</table>\n",
              "</div>\n",
              "    <div class=\"colab-df-buttons\">\n",
              "\n",
              "  <div class=\"colab-df-container\">\n",
              "    <button class=\"colab-df-convert\" onclick=\"convertToInteractive('df-e57262c1-02c1-4fae-8aa5-d6ba81ecfcbe')\"\n",
              "            title=\"Convert this dataframe to an interactive table.\"\n",
              "            style=\"display:none;\">\n",
              "\n",
              "  <svg xmlns=\"http://www.w3.org/2000/svg\" height=\"24px\" viewBox=\"0 -960 960 960\">\n",
              "    <path d=\"M120-120v-720h720v720H120Zm60-500h600v-160H180v160Zm220 220h160v-160H400v160Zm0 220h160v-160H400v160ZM180-400h160v-160H180v160Zm440 0h160v-160H620v160ZM180-180h160v-160H180v160Zm440 0h160v-160H620v160Z\"/>\n",
              "  </svg>\n",
              "    </button>\n",
              "\n",
              "  <style>\n",
              "    .colab-df-container {\n",
              "      display:flex;\n",
              "      gap: 12px;\n",
              "    }\n",
              "\n",
              "    .colab-df-convert {\n",
              "      background-color: #E8F0FE;\n",
              "      border: none;\n",
              "      border-radius: 50%;\n",
              "      cursor: pointer;\n",
              "      display: none;\n",
              "      fill: #1967D2;\n",
              "      height: 32px;\n",
              "      padding: 0 0 0 0;\n",
              "      width: 32px;\n",
              "    }\n",
              "\n",
              "    .colab-df-convert:hover {\n",
              "      background-color: #E2EBFA;\n",
              "      box-shadow: 0px 1px 2px rgba(60, 64, 67, 0.3), 0px 1px 3px 1px rgba(60, 64, 67, 0.15);\n",
              "      fill: #174EA6;\n",
              "    }\n",
              "\n",
              "    .colab-df-buttons div {\n",
              "      margin-bottom: 4px;\n",
              "    }\n",
              "\n",
              "    [theme=dark] .colab-df-convert {\n",
              "      background-color: #3B4455;\n",
              "      fill: #D2E3FC;\n",
              "    }\n",
              "\n",
              "    [theme=dark] .colab-df-convert:hover {\n",
              "      background-color: #434B5C;\n",
              "      box-shadow: 0px 1px 3px 1px rgba(0, 0, 0, 0.15);\n",
              "      filter: drop-shadow(0px 1px 2px rgba(0, 0, 0, 0.3));\n",
              "      fill: #FFFFFF;\n",
              "    }\n",
              "  </style>\n",
              "\n",
              "    <script>\n",
              "      const buttonEl =\n",
              "        document.querySelector('#df-e57262c1-02c1-4fae-8aa5-d6ba81ecfcbe button.colab-df-convert');\n",
              "      buttonEl.style.display =\n",
              "        google.colab.kernel.accessAllowed ? 'block' : 'none';\n",
              "\n",
              "      async function convertToInteractive(key) {\n",
              "        const element = document.querySelector('#df-e57262c1-02c1-4fae-8aa5-d6ba81ecfcbe');\n",
              "        const dataTable =\n",
              "          await google.colab.kernel.invokeFunction('convertToInteractive',\n",
              "                                                    [key], {});\n",
              "        if (!dataTable) return;\n",
              "\n",
              "        const docLinkHtml = 'Like what you see? Visit the ' +\n",
              "          '<a target=\"_blank\" href=https://colab.research.google.com/notebooks/data_table.ipynb>data table notebook</a>'\n",
              "          + ' to learn more about interactive tables.';\n",
              "        element.innerHTML = '';\n",
              "        dataTable['output_type'] = 'display_data';\n",
              "        await google.colab.output.renderOutput(dataTable, element);\n",
              "        const docLink = document.createElement('div');\n",
              "        docLink.innerHTML = docLinkHtml;\n",
              "        element.appendChild(docLink);\n",
              "      }\n",
              "    </script>\n",
              "  </div>\n",
              "\n",
              "\n",
              "<div id=\"df-f3744763-fd4b-4872-9ed2-64b53e0087b7\">\n",
              "  <button class=\"colab-df-quickchart\" onclick=\"quickchart('df-f3744763-fd4b-4872-9ed2-64b53e0087b7')\"\n",
              "            title=\"Suggest charts\"\n",
              "            style=\"display:none;\">\n",
              "\n",
              "<svg xmlns=\"http://www.w3.org/2000/svg\" height=\"24px\"viewBox=\"0 0 24 24\"\n",
              "     width=\"24px\">\n",
              "    <g>\n",
              "        <path d=\"M19 3H5c-1.1 0-2 .9-2 2v14c0 1.1.9 2 2 2h14c1.1 0 2-.9 2-2V5c0-1.1-.9-2-2-2zM9 17H7v-7h2v7zm4 0h-2V7h2v10zm4 0h-2v-4h2v4z\"/>\n",
              "    </g>\n",
              "</svg>\n",
              "  </button>\n",
              "\n",
              "<style>\n",
              "  .colab-df-quickchart {\n",
              "      --bg-color: #E8F0FE;\n",
              "      --fill-color: #1967D2;\n",
              "      --hover-bg-color: #E2EBFA;\n",
              "      --hover-fill-color: #174EA6;\n",
              "      --disabled-fill-color: #AAA;\n",
              "      --disabled-bg-color: #DDD;\n",
              "  }\n",
              "\n",
              "  [theme=dark] .colab-df-quickchart {\n",
              "      --bg-color: #3B4455;\n",
              "      --fill-color: #D2E3FC;\n",
              "      --hover-bg-color: #434B5C;\n",
              "      --hover-fill-color: #FFFFFF;\n",
              "      --disabled-bg-color: #3B4455;\n",
              "      --disabled-fill-color: #666;\n",
              "  }\n",
              "\n",
              "  .colab-df-quickchart {\n",
              "    background-color: var(--bg-color);\n",
              "    border: none;\n",
              "    border-radius: 50%;\n",
              "    cursor: pointer;\n",
              "    display: none;\n",
              "    fill: var(--fill-color);\n",
              "    height: 32px;\n",
              "    padding: 0;\n",
              "    width: 32px;\n",
              "  }\n",
              "\n",
              "  .colab-df-quickchart:hover {\n",
              "    background-color: var(--hover-bg-color);\n",
              "    box-shadow: 0 1px 2px rgba(60, 64, 67, 0.3), 0 1px 3px 1px rgba(60, 64, 67, 0.15);\n",
              "    fill: var(--button-hover-fill-color);\n",
              "  }\n",
              "\n",
              "  .colab-df-quickchart-complete:disabled,\n",
              "  .colab-df-quickchart-complete:disabled:hover {\n",
              "    background-color: var(--disabled-bg-color);\n",
              "    fill: var(--disabled-fill-color);\n",
              "    box-shadow: none;\n",
              "  }\n",
              "\n",
              "  .colab-df-spinner {\n",
              "    border: 2px solid var(--fill-color);\n",
              "    border-color: transparent;\n",
              "    border-bottom-color: var(--fill-color);\n",
              "    animation:\n",
              "      spin 1s steps(1) infinite;\n",
              "  }\n",
              "\n",
              "  @keyframes spin {\n",
              "    0% {\n",
              "      border-color: transparent;\n",
              "      border-bottom-color: var(--fill-color);\n",
              "      border-left-color: var(--fill-color);\n",
              "    }\n",
              "    20% {\n",
              "      border-color: transparent;\n",
              "      border-left-color: var(--fill-color);\n",
              "      border-top-color: var(--fill-color);\n",
              "    }\n",
              "    30% {\n",
              "      border-color: transparent;\n",
              "      border-left-color: var(--fill-color);\n",
              "      border-top-color: var(--fill-color);\n",
              "      border-right-color: var(--fill-color);\n",
              "    }\n",
              "    40% {\n",
              "      border-color: transparent;\n",
              "      border-right-color: var(--fill-color);\n",
              "      border-top-color: var(--fill-color);\n",
              "    }\n",
              "    60% {\n",
              "      border-color: transparent;\n",
              "      border-right-color: var(--fill-color);\n",
              "    }\n",
              "    80% {\n",
              "      border-color: transparent;\n",
              "      border-right-color: var(--fill-color);\n",
              "      border-bottom-color: var(--fill-color);\n",
              "    }\n",
              "    90% {\n",
              "      border-color: transparent;\n",
              "      border-bottom-color: var(--fill-color);\n",
              "    }\n",
              "  }\n",
              "</style>\n",
              "\n",
              "  <script>\n",
              "    async function quickchart(key) {\n",
              "      const quickchartButtonEl =\n",
              "        document.querySelector('#' + key + ' button');\n",
              "      quickchartButtonEl.disabled = true;  // To prevent multiple clicks.\n",
              "      quickchartButtonEl.classList.add('colab-df-spinner');\n",
              "      try {\n",
              "        const charts = await google.colab.kernel.invokeFunction(\n",
              "            'suggestCharts', [key], {});\n",
              "      } catch (error) {\n",
              "        console.error('Error during call to suggestCharts:', error);\n",
              "      }\n",
              "      quickchartButtonEl.classList.remove('colab-df-spinner');\n",
              "      quickchartButtonEl.classList.add('colab-df-quickchart-complete');\n",
              "    }\n",
              "    (() => {\n",
              "      let quickchartButtonEl =\n",
              "        document.querySelector('#df-f3744763-fd4b-4872-9ed2-64b53e0087b7 button');\n",
              "      quickchartButtonEl.style.display =\n",
              "        google.colab.kernel.accessAllowed ? 'block' : 'none';\n",
              "    })();\n",
              "  </script>\n",
              "</div>\n",
              "\n",
              "    </div>\n",
              "  </div>\n"
            ],
            "application/vnd.google.colaboratory.intrinsic+json": {
              "type": "dataframe",
              "variable_name": "df",
              "summary": "{\n  \"name\": \"df\",\n  \"rows\": 12833,\n  \"fields\": [\n    {\n      \"column\": \"Unnamed: 0\",\n      \"properties\": {\n        \"dtype\": \"number\",\n        \"std\": 3704,\n        \"min\": 1,\n        \"max\": 12833,\n        \"num_unique_values\": 12833,\n        \"samples\": [\n          1622,\n          9924,\n          10606\n        ],\n        \"semantic_type\": \"\",\n        \"description\": \"\"\n      }\n    },\n    {\n      \"column\": \"property_type\",\n      \"properties\": {\n        \"dtype\": \"category\",\n        \"num_unique_values\": 2,\n        \"samples\": [\n          \"house\",\n          \"apartment\"\n        ],\n        \"semantic_type\": \"\",\n        \"description\": \"\"\n      }\n    },\n    {\n      \"column\": \"state\",\n      \"properties\": {\n        \"dtype\": \"category\",\n        \"num_unique_values\": 10,\n        \"samples\": [\n          \"S\\u008bo Paulo\",\n          \"Piau\\u0092\"\n        ],\n        \"semantic_type\": \"\",\n        \"description\": \"\"\n      }\n    },\n    {\n      \"column\": \"region\",\n      \"properties\": {\n        \"dtype\": \"category\",\n        \"num_unique_values\": 4,\n        \"samples\": [\n          \"South\",\n          \"North\"\n        ],\n        \"semantic_type\": \"\",\n        \"description\": \"\"\n      }\n    },\n    {\n      \"column\": \"lat\",\n      \"properties\": {\n        \"dtype\": \"number\",\n        \"std\": 5.377947300898666,\n        \"min\": -33.692432,\n        \"max\": -5.044685,\n        \"num_unique_values\": 6051,\n        \"samples\": [\n          -22.9732096,\n          -27.4394637\n        ],\n        \"semantic_type\": \"\",\n        \"description\": \"\"\n      }\n    },\n    {\n      \"column\": \"lon\",\n      \"properties\": {\n        \"dtype\": \"number\",\n        \"std\": 4.221204285975636,\n        \"min\": -63.90518435,\n        \"max\": -34.841721,\n        \"num_unique_values\": 5919,\n        \"samples\": [\n          -46.6026215,\n          -51.162544\n        ],\n        \"semantic_type\": \"\",\n        \"description\": \"\"\n      }\n    },\n    {\n      \"column\": \"area_m2\",\n      \"properties\": {\n        \"dtype\": \"number\",\n        \"std\": 47.22549578530196,\n        \"min\": 53.0,\n        \"max\": 252.0,\n        \"num_unique_values\": 200,\n        \"samples\": [\n          147.0,\n          73.0\n        ],\n        \"semantic_type\": \"\",\n        \"description\": \"\"\n      }\n    },\n    {\n      \"column\": \"price_brl\",\n      \"properties\": {\n        \"dtype\": \"number\",\n        \"std\": 347719.44533979206,\n        \"min\": 239550.63,\n        \"max\": 1676854.5,\n        \"num_unique_values\": 2267,\n        \"samples\": [\n          1060075.11,\n          469128.65\n        ],\n        \"semantic_type\": \"\",\n        \"description\": \"\"\n      }\n    }\n  ]\n}"
            }
          },
          "metadata": {},
          "execution_count": 8
        }
      ]
    },
    {
      "cell_type": "markdown",
      "source": [
        "**Há, também, o método info()<br>\n",
        "Ótimo para verificar a descrição dos dados e quantidade total de instâncias**"
      ],
      "metadata": {
        "id": "AWIazY5JsHq0"
      }
    },
    {
      "cell_type": "code",
      "source": [
        "# Informações do Data Frame\n",
        "df.info()"
      ],
      "metadata": {
        "colab": {
          "base_uri": "https://localhost:8080/"
        },
        "id": "FCg6Q1DasdZz",
        "outputId": "ae30ae1f-d9e2-4052-fee5-95addaa103da"
      },
      "execution_count": null,
      "outputs": [
        {
          "output_type": "stream",
          "name": "stdout",
          "text": [
            "<class 'pandas.core.frame.DataFrame'>\n",
            "RangeIndex: 12833 entries, 0 to 12832\n",
            "Data columns (total 8 columns):\n",
            " #   Column         Non-Null Count  Dtype  \n",
            "---  ------         --------------  -----  \n",
            " 0   Unnamed: 0     12833 non-null  int64  \n",
            " 1   property_type  12833 non-null  object \n",
            " 2   state          12833 non-null  object \n",
            " 3   region         12833 non-null  object \n",
            " 4   lat            12833 non-null  float64\n",
            " 5   lon            12833 non-null  float64\n",
            " 6   area_m2        11293 non-null  float64\n",
            " 7   price_brl      12833 non-null  float64\n",
            "dtypes: float64(4), int64(1), object(3)\n",
            "memory usage: 802.2+ KB\n"
          ]
        }
      ]
    },
    {
      "cell_type": "markdown",
      "source": [
        "**Existe também p método df.describe() que é usado para resumir a distribuição de dados, que gera estatísticas descritivas básicas para colunas numéricas do seu DataFrame.**"
      ],
      "metadata": {
        "id": "Kq7s_z4KW-63"
      }
    },
    {
      "cell_type": "code",
      "source": [
        "df.describe()"
      ],
      "metadata": {
        "colab": {
          "base_uri": "https://localhost:8080/",
          "height": 300
        },
        "id": "aU-l7XhAXvbW",
        "outputId": "616ca331-1119-448e-ecea-9983f6d0b274"
      },
      "execution_count": null,
      "outputs": [
        {
          "output_type": "execute_result",
          "data": {
            "text/plain": [
              "         Unnamed: 0           lat           lon       area_m2     price_brl\n",
              "count  12833.000000  12833.000000  12833.000000  11293.000000  1.283300e+04\n",
              "mean    6417.000000    -24.689864    -46.753962    113.306916  6.652324e+05\n",
              "std     3704.712337      5.377947      4.221204     47.225496  3.477194e+05\n",
              "min        1.000000    -33.692432    -63.905184     53.000000  2.395506e+05\n",
              "25%     3209.000000    -27.748068    -49.057643     75.000000  3.886942e+05\n",
              "50%     6417.000000    -23.687899    -46.864044    101.000000  5.689328e+05\n",
              "75%     9625.000000    -22.955832    -43.360172    140.000000  8.504048e+05\n",
              "max    12833.000000     -5.044685    -34.841721    252.000000  1.676854e+06"
            ],
            "text/html": [
              "\n",
              "  <div id=\"df-c15bd6bf-dc94-4600-be8a-c2645e1d451f\" class=\"colab-df-container\">\n",
              "    <div>\n",
              "<style scoped>\n",
              "    .dataframe tbody tr th:only-of-type {\n",
              "        vertical-align: middle;\n",
              "    }\n",
              "\n",
              "    .dataframe tbody tr th {\n",
              "        vertical-align: top;\n",
              "    }\n",
              "\n",
              "    .dataframe thead th {\n",
              "        text-align: right;\n",
              "    }\n",
              "</style>\n",
              "<table border=\"1\" class=\"dataframe\">\n",
              "  <thead>\n",
              "    <tr style=\"text-align: right;\">\n",
              "      <th></th>\n",
              "      <th>Unnamed: 0</th>\n",
              "      <th>lat</th>\n",
              "      <th>lon</th>\n",
              "      <th>area_m2</th>\n",
              "      <th>price_brl</th>\n",
              "    </tr>\n",
              "  </thead>\n",
              "  <tbody>\n",
              "    <tr>\n",
              "      <th>count</th>\n",
              "      <td>12833.000000</td>\n",
              "      <td>12833.000000</td>\n",
              "      <td>12833.000000</td>\n",
              "      <td>11293.000000</td>\n",
              "      <td>1.283300e+04</td>\n",
              "    </tr>\n",
              "    <tr>\n",
              "      <th>mean</th>\n",
              "      <td>6417.000000</td>\n",
              "      <td>-24.689864</td>\n",
              "      <td>-46.753962</td>\n",
              "      <td>113.306916</td>\n",
              "      <td>6.652324e+05</td>\n",
              "    </tr>\n",
              "    <tr>\n",
              "      <th>std</th>\n",
              "      <td>3704.712337</td>\n",
              "      <td>5.377947</td>\n",
              "      <td>4.221204</td>\n",
              "      <td>47.225496</td>\n",
              "      <td>3.477194e+05</td>\n",
              "    </tr>\n",
              "    <tr>\n",
              "      <th>min</th>\n",
              "      <td>1.000000</td>\n",
              "      <td>-33.692432</td>\n",
              "      <td>-63.905184</td>\n",
              "      <td>53.000000</td>\n",
              "      <td>2.395506e+05</td>\n",
              "    </tr>\n",
              "    <tr>\n",
              "      <th>25%</th>\n",
              "      <td>3209.000000</td>\n",
              "      <td>-27.748068</td>\n",
              "      <td>-49.057643</td>\n",
              "      <td>75.000000</td>\n",
              "      <td>3.886942e+05</td>\n",
              "    </tr>\n",
              "    <tr>\n",
              "      <th>50%</th>\n",
              "      <td>6417.000000</td>\n",
              "      <td>-23.687899</td>\n",
              "      <td>-46.864044</td>\n",
              "      <td>101.000000</td>\n",
              "      <td>5.689328e+05</td>\n",
              "    </tr>\n",
              "    <tr>\n",
              "      <th>75%</th>\n",
              "      <td>9625.000000</td>\n",
              "      <td>-22.955832</td>\n",
              "      <td>-43.360172</td>\n",
              "      <td>140.000000</td>\n",
              "      <td>8.504048e+05</td>\n",
              "    </tr>\n",
              "    <tr>\n",
              "      <th>max</th>\n",
              "      <td>12833.000000</td>\n",
              "      <td>-5.044685</td>\n",
              "      <td>-34.841721</td>\n",
              "      <td>252.000000</td>\n",
              "      <td>1.676854e+06</td>\n",
              "    </tr>\n",
              "  </tbody>\n",
              "</table>\n",
              "</div>\n",
              "    <div class=\"colab-df-buttons\">\n",
              "\n",
              "  <div class=\"colab-df-container\">\n",
              "    <button class=\"colab-df-convert\" onclick=\"convertToInteractive('df-c15bd6bf-dc94-4600-be8a-c2645e1d451f')\"\n",
              "            title=\"Convert this dataframe to an interactive table.\"\n",
              "            style=\"display:none;\">\n",
              "\n",
              "  <svg xmlns=\"http://www.w3.org/2000/svg\" height=\"24px\" viewBox=\"0 -960 960 960\">\n",
              "    <path d=\"M120-120v-720h720v720H120Zm60-500h600v-160H180v160Zm220 220h160v-160H400v160Zm0 220h160v-160H400v160ZM180-400h160v-160H180v160Zm440 0h160v-160H620v160ZM180-180h160v-160H180v160Zm440 0h160v-160H620v160Z\"/>\n",
              "  </svg>\n",
              "    </button>\n",
              "\n",
              "  <style>\n",
              "    .colab-df-container {\n",
              "      display:flex;\n",
              "      gap: 12px;\n",
              "    }\n",
              "\n",
              "    .colab-df-convert {\n",
              "      background-color: #E8F0FE;\n",
              "      border: none;\n",
              "      border-radius: 50%;\n",
              "      cursor: pointer;\n",
              "      display: none;\n",
              "      fill: #1967D2;\n",
              "      height: 32px;\n",
              "      padding: 0 0 0 0;\n",
              "      width: 32px;\n",
              "    }\n",
              "\n",
              "    .colab-df-convert:hover {\n",
              "      background-color: #E2EBFA;\n",
              "      box-shadow: 0px 1px 2px rgba(60, 64, 67, 0.3), 0px 1px 3px 1px rgba(60, 64, 67, 0.15);\n",
              "      fill: #174EA6;\n",
              "    }\n",
              "\n",
              "    .colab-df-buttons div {\n",
              "      margin-bottom: 4px;\n",
              "    }\n",
              "\n",
              "    [theme=dark] .colab-df-convert {\n",
              "      background-color: #3B4455;\n",
              "      fill: #D2E3FC;\n",
              "    }\n",
              "\n",
              "    [theme=dark] .colab-df-convert:hover {\n",
              "      background-color: #434B5C;\n",
              "      box-shadow: 0px 1px 3px 1px rgba(0, 0, 0, 0.15);\n",
              "      filter: drop-shadow(0px 1px 2px rgba(0, 0, 0, 0.3));\n",
              "      fill: #FFFFFF;\n",
              "    }\n",
              "  </style>\n",
              "\n",
              "    <script>\n",
              "      const buttonEl =\n",
              "        document.querySelector('#df-c15bd6bf-dc94-4600-be8a-c2645e1d451f button.colab-df-convert');\n",
              "      buttonEl.style.display =\n",
              "        google.colab.kernel.accessAllowed ? 'block' : 'none';\n",
              "\n",
              "      async function convertToInteractive(key) {\n",
              "        const element = document.querySelector('#df-c15bd6bf-dc94-4600-be8a-c2645e1d451f');\n",
              "        const dataTable =\n",
              "          await google.colab.kernel.invokeFunction('convertToInteractive',\n",
              "                                                    [key], {});\n",
              "        if (!dataTable) return;\n",
              "\n",
              "        const docLinkHtml = 'Like what you see? Visit the ' +\n",
              "          '<a target=\"_blank\" href=https://colab.research.google.com/notebooks/data_table.ipynb>data table notebook</a>'\n",
              "          + ' to learn more about interactive tables.';\n",
              "        element.innerHTML = '';\n",
              "        dataTable['output_type'] = 'display_data';\n",
              "        await google.colab.output.renderOutput(dataTable, element);\n",
              "        const docLink = document.createElement('div');\n",
              "        docLink.innerHTML = docLinkHtml;\n",
              "        element.appendChild(docLink);\n",
              "      }\n",
              "    </script>\n",
              "  </div>\n",
              "\n",
              "\n",
              "<div id=\"df-1fbe1f69-a79e-4f9e-8f49-cfb5c006508d\">\n",
              "  <button class=\"colab-df-quickchart\" onclick=\"quickchart('df-1fbe1f69-a79e-4f9e-8f49-cfb5c006508d')\"\n",
              "            title=\"Suggest charts\"\n",
              "            style=\"display:none;\">\n",
              "\n",
              "<svg xmlns=\"http://www.w3.org/2000/svg\" height=\"24px\"viewBox=\"0 0 24 24\"\n",
              "     width=\"24px\">\n",
              "    <g>\n",
              "        <path d=\"M19 3H5c-1.1 0-2 .9-2 2v14c0 1.1.9 2 2 2h14c1.1 0 2-.9 2-2V5c0-1.1-.9-2-2-2zM9 17H7v-7h2v7zm4 0h-2V7h2v10zm4 0h-2v-4h2v4z\"/>\n",
              "    </g>\n",
              "</svg>\n",
              "  </button>\n",
              "\n",
              "<style>\n",
              "  .colab-df-quickchart {\n",
              "      --bg-color: #E8F0FE;\n",
              "      --fill-color: #1967D2;\n",
              "      --hover-bg-color: #E2EBFA;\n",
              "      --hover-fill-color: #174EA6;\n",
              "      --disabled-fill-color: #AAA;\n",
              "      --disabled-bg-color: #DDD;\n",
              "  }\n",
              "\n",
              "  [theme=dark] .colab-df-quickchart {\n",
              "      --bg-color: #3B4455;\n",
              "      --fill-color: #D2E3FC;\n",
              "      --hover-bg-color: #434B5C;\n",
              "      --hover-fill-color: #FFFFFF;\n",
              "      --disabled-bg-color: #3B4455;\n",
              "      --disabled-fill-color: #666;\n",
              "  }\n",
              "\n",
              "  .colab-df-quickchart {\n",
              "    background-color: var(--bg-color);\n",
              "    border: none;\n",
              "    border-radius: 50%;\n",
              "    cursor: pointer;\n",
              "    display: none;\n",
              "    fill: var(--fill-color);\n",
              "    height: 32px;\n",
              "    padding: 0;\n",
              "    width: 32px;\n",
              "  }\n",
              "\n",
              "  .colab-df-quickchart:hover {\n",
              "    background-color: var(--hover-bg-color);\n",
              "    box-shadow: 0 1px 2px rgba(60, 64, 67, 0.3), 0 1px 3px 1px rgba(60, 64, 67, 0.15);\n",
              "    fill: var(--button-hover-fill-color);\n",
              "  }\n",
              "\n",
              "  .colab-df-quickchart-complete:disabled,\n",
              "  .colab-df-quickchart-complete:disabled:hover {\n",
              "    background-color: var(--disabled-bg-color);\n",
              "    fill: var(--disabled-fill-color);\n",
              "    box-shadow: none;\n",
              "  }\n",
              "\n",
              "  .colab-df-spinner {\n",
              "    border: 2px solid var(--fill-color);\n",
              "    border-color: transparent;\n",
              "    border-bottom-color: var(--fill-color);\n",
              "    animation:\n",
              "      spin 1s steps(1) infinite;\n",
              "  }\n",
              "\n",
              "  @keyframes spin {\n",
              "    0% {\n",
              "      border-color: transparent;\n",
              "      border-bottom-color: var(--fill-color);\n",
              "      border-left-color: var(--fill-color);\n",
              "    }\n",
              "    20% {\n",
              "      border-color: transparent;\n",
              "      border-left-color: var(--fill-color);\n",
              "      border-top-color: var(--fill-color);\n",
              "    }\n",
              "    30% {\n",
              "      border-color: transparent;\n",
              "      border-left-color: var(--fill-color);\n",
              "      border-top-color: var(--fill-color);\n",
              "      border-right-color: var(--fill-color);\n",
              "    }\n",
              "    40% {\n",
              "      border-color: transparent;\n",
              "      border-right-color: var(--fill-color);\n",
              "      border-top-color: var(--fill-color);\n",
              "    }\n",
              "    60% {\n",
              "      border-color: transparent;\n",
              "      border-right-color: var(--fill-color);\n",
              "    }\n",
              "    80% {\n",
              "      border-color: transparent;\n",
              "      border-right-color: var(--fill-color);\n",
              "      border-bottom-color: var(--fill-color);\n",
              "    }\n",
              "    90% {\n",
              "      border-color: transparent;\n",
              "      border-bottom-color: var(--fill-color);\n",
              "    }\n",
              "  }\n",
              "</style>\n",
              "\n",
              "  <script>\n",
              "    async function quickchart(key) {\n",
              "      const quickchartButtonEl =\n",
              "        document.querySelector('#' + key + ' button');\n",
              "      quickchartButtonEl.disabled = true;  // To prevent multiple clicks.\n",
              "      quickchartButtonEl.classList.add('colab-df-spinner');\n",
              "      try {\n",
              "        const charts = await google.colab.kernel.invokeFunction(\n",
              "            'suggestCharts', [key], {});\n",
              "      } catch (error) {\n",
              "        console.error('Error during call to suggestCharts:', error);\n",
              "      }\n",
              "      quickchartButtonEl.classList.remove('colab-df-spinner');\n",
              "      quickchartButtonEl.classList.add('colab-df-quickchart-complete');\n",
              "    }\n",
              "    (() => {\n",
              "      let quickchartButtonEl =\n",
              "        document.querySelector('#df-1fbe1f69-a79e-4f9e-8f49-cfb5c006508d button');\n",
              "      quickchartButtonEl.style.display =\n",
              "        google.colab.kernel.accessAllowed ? 'block' : 'none';\n",
              "    })();\n",
              "  </script>\n",
              "</div>\n",
              "\n",
              "    </div>\n",
              "  </div>\n"
            ],
            "application/vnd.google.colaboratory.intrinsic+json": {
              "type": "dataframe",
              "summary": "{\n  \"name\": \"df\",\n  \"rows\": 8,\n  \"fields\": [\n    {\n      \"column\": \"Unnamed: 0\",\n      \"properties\": {\n        \"dtype\": \"number\",\n        \"std\": 4624.77049210302,\n        \"min\": 1.0,\n        \"max\": 12833.0,\n        \"num_unique_values\": 6,\n        \"samples\": [\n          12833.0,\n          6417.0,\n          9625.0\n        ],\n        \"semantic_type\": \"\",\n        \"description\": \"\"\n      }\n    },\n    {\n      \"column\": \"lat\",\n      \"properties\": {\n        \"dtype\": \"number\",\n        \"std\": 4543.8580332983065,\n        \"min\": -33.692432,\n        \"max\": 12833.0,\n        \"num_unique_values\": 8,\n        \"samples\": [\n          -24.689864021341155,\n          -23.687899,\n          12833.0\n        ],\n        \"semantic_type\": \"\",\n        \"description\": \"\"\n      }\n    },\n    {\n      \"column\": \"lon\",\n      \"properties\": {\n        \"dtype\": \"number\",\n        \"std\": 4551.36415334867,\n        \"min\": -63.90518435,\n        \"max\": 12833.0,\n        \"num_unique_values\": 8,\n        \"samples\": [\n          -46.75396159500897,\n          -46.864044,\n          12833.0\n        ],\n        \"semantic_type\": \"\",\n        \"description\": \"\"\n      }\n    },\n    {\n      \"column\": \"area_m2\",\n      \"properties\": {\n        \"dtype\": \"number\",\n        \"std\": 3953.7390094666675,\n        \"min\": 47.22549578530196,\n        \"max\": 11293.0,\n        \"num_unique_values\": 8,\n        \"samples\": [\n          113.30691578854157,\n          101.0,\n          11293.0\n        ],\n        \"semantic_type\": \"\",\n        \"description\": \"\"\n      }\n    },\n    {\n      \"column\": \"price_brl\",\n      \"properties\": {\n        \"dtype\": \"number\",\n        \"std\": 508529.1580089154,\n        \"min\": 12833.0,\n        \"max\": 1676854.5,\n        \"num_unique_values\": 8,\n        \"samples\": [\n          665232.4491482896,\n          568932.77,\n          12833.0\n        ],\n        \"semantic_type\": \"\",\n        \"description\": \"\"\n      }\n    }\n  ]\n}"
            }
          },
          "metadata": {},
          "execution_count": 11
        }
      ]
    },
    {
      "cell_type": "markdown",
      "source": [
        "Podemos observar por area m² temos 11.293 valores não nulos. <br>\n",
        "Média dos preços é de 665 mil. <br>\n",
        "A latidude minima registrada é de -33.69. <br>\n",
        "O maior preço registrado é de 1.67 milhão. <br>\n",
        "O tamanho dos imóveis por m², é de 53m² a 252m². <br>\n",
        "O preço dos imóveis vai de 239 mil até 1.67 milhão.\n"
      ],
      "metadata": {
        "id": "lZdko2sWX1oU"
      }
    },
    {
      "cell_type": "markdown",
      "source": [
        "##2.2 Histograma"
      ],
      "metadata": {
        "id": "hl6f3j_7v53d"
      }
    },
    {
      "cell_type": "markdown",
      "source": [],
      "metadata": {
        "id": "AkeJLq4rfAwB"
      }
    },
    {
      "cell_type": "code",
      "source": [
        "# Importa biblioteca gráfica\n",
        "import matplotlib.pyplot as plt\n",
        "df.hist(bins=50, figsize=(20,15))\n",
        "plt.show"
      ],
      "metadata": {
        "colab": {
          "base_uri": "https://localhost:8080/",
          "height": 1000
        },
        "id": "Bl9X1B0izYO1",
        "outputId": "7927f191-8b0f-4981-db80-91d072bd7fc1"
      },
      "execution_count": null,
      "outputs": [
        {
          "output_type": "execute_result",
          "data": {
            "text/plain": [
              "<function matplotlib.pyplot.show(close=None, block=None)>"
            ],
            "text/html": [
              "<div style=\"max-width:800px; border: 1px solid var(--colab-border-color);\"><style>\n",
              "      pre.function-repr-contents {\n",
              "        overflow-x: auto;\n",
              "        padding: 8px 12px;\n",
              "        max-height: 500px;\n",
              "      }\n",
              "\n",
              "      pre.function-repr-contents.function-repr-contents-collapsed {\n",
              "        cursor: pointer;\n",
              "        max-height: 100px;\n",
              "      }\n",
              "    </style>\n",
              "    <pre style=\"white-space: initial; background:\n",
              "         var(--colab-secondary-surface-color); padding: 8px 12px;\n",
              "         border-bottom: 1px solid var(--colab-border-color);\"><b>matplotlib.pyplot.show</b><br/>def show(*args, **kwargs) -&gt; None</pre><pre class=\"function-repr-contents function-repr-contents-collapsed\" style=\"\"><a class=\"filepath\" style=\"display:none\" href=\"#\">/usr/local/lib/python3.11/dist-packages/matplotlib/pyplot.py</a>Display all open figures.\n",
              "\n",
              "Parameters\n",
              "----------\n",
              "block : bool, optional\n",
              "    Whether to wait for all figures to be closed before returning.\n",
              "\n",
              "    If `True` block and run the GUI main loop until all figure windows\n",
              "    are closed.\n",
              "\n",
              "    If `False` ensure that all figure windows are displayed and return\n",
              "    immediately.  In this case, you are responsible for ensuring\n",
              "    that the event loop is running to have responsive figures.\n",
              "\n",
              "    Defaults to True in non-interactive mode and to False in interactive\n",
              "    mode (see `.pyplot.isinteractive`).\n",
              "\n",
              "See Also\n",
              "--------\n",
              "ion : Enable interactive mode, which shows / updates the figure after\n",
              "      every plotting command, so that calling ``show()`` is not necessary.\n",
              "ioff : Disable interactive mode.\n",
              "savefig : Save the figure to an image file instead of showing it on screen.\n",
              "\n",
              "Notes\n",
              "-----\n",
              "**Saving figures to file and showing a window at the same time**\n",
              "\n",
              "If you want an image file as well as a user interface window, use\n",
              "`.pyplot.savefig` before `.pyplot.show`. At the end of (a blocking)\n",
              "``show()`` the figure is closed and thus unregistered from pyplot. Calling\n",
              "`.pyplot.savefig` afterwards would save a new and thus empty figure. This\n",
              "limitation of command order does not apply if the show is non-blocking or\n",
              "if you keep a reference to the figure and use `.Figure.savefig`.\n",
              "\n",
              "**Auto-show in jupyter notebooks**\n",
              "\n",
              "The jupyter backends (activated via ``%matplotlib inline``,\n",
              "``%matplotlib notebook``, or ``%matplotlib widget``), call ``show()`` at\n",
              "the end of every cell by default. Thus, you usually don&#x27;t have to call it\n",
              "explicitly there.</pre>\n",
              "      <script>\n",
              "      if (google.colab.kernel.accessAllowed && google.colab.files && google.colab.files.view) {\n",
              "        for (const element of document.querySelectorAll('.filepath')) {\n",
              "          element.style.display = 'block'\n",
              "          element.onclick = (event) => {\n",
              "            event.preventDefault();\n",
              "            event.stopPropagation();\n",
              "            google.colab.files.view(element.textContent, 569);\n",
              "          };\n",
              "        }\n",
              "      }\n",
              "      for (const element of document.querySelectorAll('.function-repr-contents')) {\n",
              "        element.onclick = (event) => {\n",
              "          event.preventDefault();\n",
              "          event.stopPropagation();\n",
              "          element.classList.toggle('function-repr-contents-collapsed');\n",
              "        };\n",
              "      }\n",
              "      </script>\n",
              "      </div>"
            ]
          },
          "metadata": {},
          "execution_count": 9
        },
        {
          "output_type": "display_data",
          "data": {
            "text/plain": [
              "<Figure size 2000x1500 with 6 Axes>"
            ],
            "image/png": "[encoded data removed]"
          },
          "metadata": {}
        }
      ]
    },
    {
      "cell_type": "markdown",
      "source": [
        "**Unnamed:** Pode ser descartado, pois é apenas um índice, e a distribuição é uniforme.<br>\n",
        "**Lon (longitude):** Há vários picos de concentração, -50° a -48° provavelmente representam cidades no sul do Brasil, como Curitiba (PR) e Porto Alegre (RS).\n",
        "-46° a -43° incluem cidades do sudeste, como São Paulo (SP) e Rio de Janeiro (RJ). Existem alguns poucos registros mais afastados -65°, ou -35°. <br>\n",
        " **Lat (latitude):** Existem três grandes picos principais de frequência em torno de, -30º cidade Porto Alegre (RS), -26º cidade de Curitiba (PR), -23º cidade de São Paulo(SP). Existem algumas ocorrências mais ao norte -10°, -5°, mas são raras. <br>\n",
        "**Area_m2:** Tem uma distribruição assimétrica com maior concentração entre 60 e 120m².<br>\n",
        "**Price_brl:** A maior parte está concentrada em preços mais baixos entre 200 mil e 600 mil reais.Conforme o preço aumenta, o número de imóveis diminui, assim os imóveis mais caros são menos frequentes.\n",
        "\n",
        "\n"
      ],
      "metadata": {
        "id": "swgMqZJJfeyN"
      }
    },
    {
      "cell_type": "markdown",
      "source": [
        "# 2.3 Outras Informações Coletadas do \"Data Frame\""
      ],
      "metadata": {
        "id": "pEJzTxIIXhQb"
      }
    },
    {
      "cell_type": "markdown",
      "source": [
        "2.3.1 - Visualisação de Valores Faltantes"
      ],
      "metadata": {
        "id": "IJmyPP9qX2Ir"
      }
    },
    {
      "cell_type": "code",
      "source": [
        "df.isnull().sum()"
      ],
      "metadata": {
        "id": "O7JR-eEu0BRM",
        "colab": {
          "base_uri": "https://localhost:8080/",
          "height": 335
        },
        "outputId": "f4286ec8-9f5f-421b-c14d-25056b7811c2"
      },
      "execution_count": null,
      "outputs": [
        {
          "output_type": "execute_result",
          "data": {
            "text/plain": [
              "Unnamed: 0          0\n",
              "property_type       0\n",
              "state               0\n",
              "region              0\n",
              "lat                 0\n",
              "lon                 0\n",
              "area_m2          1540\n",
              "price_brl           0\n",
              "dtype: int64"
            ],
            "text/html": [
              "<div>\n",
              "<style scoped>\n",
              "    .dataframe tbody tr th:only-of-type {\n",
              "        vertical-align: middle;\n",
              "    }\n",
              "\n",
              "    .dataframe tbody tr th {\n",
              "        vertical-align: top;\n",
              "    }\n",
              "\n",
              "    .dataframe thead th {\n",
              "        text-align: right;\n",
              "    }\n",
              "</style>\n",
              "<table border=\"1\" class=\"dataframe\">\n",
              "  <thead>\n",
              "    <tr style=\"text-align: right;\">\n",
              "      <th></th>\n",
              "      <th>0</th>\n",
              "    </tr>\n",
              "  </thead>\n",
              "  <tbody>\n",
              "    <tr>\n",
              "      <th>Unnamed: 0</th>\n",
              "      <td>0</td>\n",
              "    </tr>\n",
              "    <tr>\n",
              "      <th>property_type</th>\n",
              "      <td>0</td>\n",
              "    </tr>\n",
              "    <tr>\n",
              "      <th>state</th>\n",
              "      <td>0</td>\n",
              "    </tr>\n",
              "    <tr>\n",
              "      <th>region</th>\n",
              "      <td>0</td>\n",
              "    </tr>\n",
              "    <tr>\n",
              "      <th>lat</th>\n",
              "      <td>0</td>\n",
              "    </tr>\n",
              "    <tr>\n",
              "      <th>lon</th>\n",
              "      <td>0</td>\n",
              "    </tr>\n",
              "    <tr>\n",
              "      <th>area_m2</th>\n",
              "      <td>1540</td>\n",
              "    </tr>\n",
              "    <tr>\n",
              "      <th>price_brl</th>\n",
              "      <td>0</td>\n",
              "    </tr>\n",
              "  </tbody>\n",
              "</table>\n",
              "</div><br><label><b>dtype:</b> int64</label>"
            ]
          },
          "metadata": {},
          "execution_count": 10
        }
      ]
    },
    {
      "cell_type": "markdown",
      "source": [
        "A análise revelou que apenas a coluna area_m2 possui valores ausentes, totalizando 1540 registros com dados faltantes.As demais colunas não apresentam nenhum valor nulo."
      ],
      "metadata": {
        "id": "H0v7nY9Ke7vu"
      }
    },
    {
      "cell_type": "code",
      "source": [
        "#visualizar graficamente os valores nulos (faltantes) no DataFrame df usando um heatmap.\n",
        "import matplotlib.pyplot as plt\n",
        "import seaborn as sns\n",
        "plt.figure(figsize=(10, 6))\n",
        "sns.heatmap(df.isna().transpose())"
      ],
      "metadata": {
        "colab": {
          "base_uri": "https://localhost:8080/",
          "height": 575
        },
        "id": "ZF-lL-ITY-Ki",
        "outputId": "88550749-8605-4287-b478-f3e5eaa520f0"
      },
      "execution_count": null,
      "outputs": [
        {
          "output_type": "execute_result",
          "data": {
            "text/plain": [
              "<Axes: >"
            ]
          },
          "metadata": {},
          "execution_count": 34
        },
        {
          "output_type": "display_data",
          "data": {
            "text/plain": [
              "<Figure size 1000x600 with 2 Axes>"
            ],
            "image/png": "[encoded data removed]"
          },
          "metadata": {}
        }
      ]
    },
    {
      "cell_type": "markdown",
      "source": [
        "# **3. Descobrir e Visualizar Dados**"
      ],
      "metadata": {
        "id": "giWp7QpohEIu"
      }
    },
    {
      "cell_type": "code",
      "source": [
        "# Ver quantos valores não nulos existem por coluna\n",
        "print(\"Valores não nulos por coluna:\")\n",
        "print(df.count())"
      ],
      "metadata": {
        "colab": {
          "base_uri": "https://localhost:8080/"
        },
        "id": "2v4DxZnTesTq",
        "outputId": "2b071642-e89c-482a-c9af-a6d084645d67"
      },
      "execution_count": null,
      "outputs": [
        {
          "output_type": "stream",
          "name": "stdout",
          "text": [
            "Valores não nulos por coluna:\n",
            "Unnamed: 0       12833\n",
            "property_type    12833\n",
            "state            12833\n",
            "region           12833\n",
            "lat              12833\n",
            "lon              12833\n",
            "area_m2          12833\n",
            "price_brl        12833\n",
            "dtype: int64\n"
          ]
        }
      ]
    },
    {
      "cell_type": "code",
      "source": [
        "# Ver o total de registros no DataFrame\n",
        "print(\"\\nTotal de registros (linhas):\", len(df))"
      ],
      "metadata": {
        "colab": {
          "base_uri": "https://localhost:8080/"
        },
        "id": "awrpVyE_e2Ky",
        "outputId": "31533731-8b8a-4e86-e603-3f2de9c12ada"
      },
      "execution_count": null,
      "outputs": [
        {
          "output_type": "stream",
          "name": "stdout",
          "text": [
            "\n",
            "Total de registros (linhas): 12833\n"
          ]
        }
      ]
    },
    {
      "cell_type": "markdown",
      "source": [
        "#**Boxplot**"
      ],
      "metadata": {
        "id": "fIuGGMTsmlNL"
      }
    },
    {
      "cell_type": "code",
      "source": [
        "# diagrama de caixa por tipo de imovel\n",
        "import seaborn as sns\n",
        "import matplotlib.pyplot as plt\n",
        "\n",
        "plt.figure(figsize=(10, 6))\n",
        "sns.boxplot(data=df, x='property_type', y='price_brl')\n",
        "plt.title('Distribuição de Preço por Tipo de Imóvel')\n",
        "plt.xticks(rotation=45)\n",
        "plt.tight_layout()\n",
        "plt.show()\n"
      ],
      "metadata": {
        "colab": {
          "base_uri": "https://localhost:8080/",
          "height": 607
        },
        "id": "t4e1NR7TcO_q",
        "outputId": "f6207820-defa-4451-c30d-5465c829fd43"
      },
      "execution_count": null,
      "outputs": [
        {
          "output_type": "display_data",
          "data": {
            "text/plain": [
              "<Figure size 1000x600 with 1 Axes>"
            ],
            "image/png": "[encoded data removed]"
          },
          "metadata": {}
        }
      ]
    },
    {
      "cell_type": "markdown",
      "source": [
        "Esse gráfico é um boxplot que mostra a distribuição dos preços price_brl por tipo de imóvel property_type, comparando apartamentos com casas."
      ],
      "metadata": {
        "id": "COGmNWsym0CJ"
      }
    },
    {
      "cell_type": "markdown",
      "source": [
        "## **Gráfico Barra Vertical**"
      ],
      "metadata": {
        "id": "A5GwV8JtnYNE"
      }
    },
    {
      "cell_type": "code",
      "source": [
        "# Preço medio por estado\n",
        "plt.figure(figsize=(12, 6))\n",
        "mean_price_state = df.groupby('state')['price_brl'].mean().sort_values(ascending=False)\n",
        "sns.barplot(x=mean_price_state.index, y=mean_price_state.values, palette=\"viridis\")\n",
        "plt.title('Preço Médio de Imóveis por Estado')\n",
        "plt.ylabel('Preço Médio (BRL)')\n",
        "plt.xlabel('Estado')\n",
        "plt.xticks(rotation=45)\n",
        "plt.tight_layout()\n",
        "plt.show()\n"
      ],
      "metadata": {
        "colab": {
          "base_uri": "https://localhost:8080/",
          "height": 902
        },
        "id": "GhAf5rDUflxa",
        "outputId": "e5570893-a04a-4e3f-f452-4aed88d4ea1c"
      },
      "execution_count": null,
      "outputs": [
        {
          "output_type": "stream",
          "name": "stderr",
          "text": [
            "<ipython-input-37-1891598dcbd7>:4: FutureWarning: \n",
            "\n",
            "Passing `palette` without assigning `hue` is deprecated and will be removed in v0.14.0. Assign the `x` variable to `hue` and set `legend=False` for the same effect.\n",
            "\n",
            "  sns.barplot(x=mean_price_state.index, y=mean_price_state.values, palette=\"viridis\")\n",
            "<ipython-input-37-1891598dcbd7>:9: UserWarning: Glyph 139 (\\x8b) missing from font(s) DejaVu Sans.\n",
            "  plt.tight_layout()\n",
            "<ipython-input-37-1891598dcbd7>:9: UserWarning: Glyph 146 (\\x92) missing from font(s) DejaVu Sans.\n",
            "  plt.tight_layout()\n",
            "<ipython-input-37-1891598dcbd7>:9: UserWarning: Glyph 153 (\\x99) missing from font(s) DejaVu Sans.\n",
            "  plt.tight_layout()\n",
            "/usr/local/lib/python3.11/dist-packages/IPython/core/pylabtools.py:151: UserWarning: Glyph 139 (\\x8b) missing from font(s) DejaVu Sans.\n",
            "  fig.canvas.print_figure(bytes_io, **kw)\n",
            "/usr/local/lib/python3.11/dist-packages/IPython/core/pylabtools.py:151: UserWarning: Glyph 146 (\\x92) missing from font(s) DejaVu Sans.\n",
            "  fig.canvas.print_figure(bytes_io, **kw)\n",
            "/usr/local/lib/python3.11/dist-packages/IPython/core/pylabtools.py:151: UserWarning: Glyph 153 (\\x99) missing from font(s) DejaVu Sans.\n",
            "  fig.canvas.print_figure(bytes_io, **kw)\n"
          ]
        },
        {
          "output_type": "display_data",
          "data": {
            "text/plain": [
              "<Figure size 1200x600 with 1 Axes>"
            ],
            "image/png": "[encoded data removed]"
          },
          "metadata": {}
        }
      ]
    },
    {
      "cell_type": "markdown",
      "source": [
        "Eixo Y (vertical): Representa o preço médio (em reais) dos imóveis.<br>\n",
        "Eixo X (horizontal): Mostra os estados brasileiros.<br>\n",
        "A paleta de cores vai do roxo (valores mais altos) ao verde-claro (valores mais baixos), facilitando a leitura visual da diferença de preços entre os estados.<br>\n",
        "Santa Catarina tem o preço médio de imóveis mais alto, ultrapassando os R$ 700.000. <br>\n",
        "Em seguida, aparecem Rio de Janeiro e São Paulo, que são esperados nessa posição por serem grandes centros urbanos.<br>\n",
        "Pernambuco, Rio Grande do Sul e Rio Grande do Norte também apresentam preços médios relativamente altos, superando estados como Sergipe e Tocantins.<br>\n",
        "\n",
        "Rondônia aparece como o estado com o menor preço médio de imóveis, abaixo de R$ 400.000.\n",
        "\n",
        "\n"
      ],
      "metadata": {
        "id": "_i91EslknoH5"
      }
    },
    {
      "cell_type": "markdown",
      "source": [
        "#**Preço médio por Região**"
      ],
      "metadata": {
        "id": "71iki8TJoyVF"
      }
    },
    {
      "cell_type": "code",
      "source": [
        "#preco medio por regiao\n",
        "plt.figure(figsize=(10, 5))\n",
        "mean_price_region = df.groupby('region')['price_brl'].mean().sort_values(ascending=False)\n",
        "sns.barplot(x=mean_price_region.index, y=mean_price_region.values, palette=\"rocket\")\n",
        "plt.title('Preço Médio de Imóveis por Região')\n",
        "plt.ylabel('Preço Médio (BRL)')\n",
        "plt.xlabel('Região')\n",
        "plt.tight_layout()\n",
        "plt.show()\n"
      ],
      "metadata": {
        "colab": {
          "base_uri": "https://localhost:8080/",
          "height": 594
        },
        "id": "YJrVfNQnfwGP",
        "outputId": "cbba57b9-d6db-45ff-fbac-5c699d151586"
      },
      "execution_count": null,
      "outputs": [
        {
          "output_type": "stream",
          "name": "stderr",
          "text": [
            "<ipython-input-38-01476838bb59>:4: FutureWarning: \n",
            "\n",
            "Passing `palette` without assigning `hue` is deprecated and will be removed in v0.14.0. Assign the `x` variable to `hue` and set `legend=False` for the same effect.\n",
            "\n",
            "  sns.barplot(x=mean_price_region.index, y=mean_price_region.values, palette=\"rocket\")\n"
          ]
        },
        {
          "output_type": "display_data",
          "data": {
            "text/plain": [
              "<Figure size 1000x500 with 1 Axes>"
            ],
            "image/png": "[encoded data removed]"
          },
          "metadata": {}
        }
      ]
    },
    {
      "cell_type": "markdown",
      "source": [
        "Esse gráfico apresenta a distribuição do preço médio de imóveis por região do Brasil, agrupando os dados em blocos maiores em vez de por estado. É um resumo regional do que vimos anteriormente por estado.<br>\n",
        "\n",
        "O eixo Y (vertical) mostra o preço médio dos imóveis (em BRL).<br>\n",
        "O eixo X (horizontal) representa as regiões do Brasil: Southeast (Sudeste), South (Sul), Northeast (Nordeste), North (Norte)."
      ],
      "metadata": {
        "id": "6eTKOpzzof03"
      }
    },
    {
      "cell_type": "markdown",
      "source": [
        "**A eliminação dos dados faltantes pode ser uma solução.**"
      ],
      "metadata": {
        "id": "mxZIpvhgr-37"
      }
    },
    {
      "cell_type": "code",
      "source": [
        "df.info()"
      ],
      "metadata": {
        "colab": {
          "base_uri": "https://localhost:8080/"
        },
        "id": "zdmPduCfvCDb",
        "outputId": "2aa0c036-f19a-4cbf-f141-1faadb5544f0"
      },
      "execution_count": null,
      "outputs": [
        {
          "output_type": "stream",
          "name": "stdout",
          "text": [
            "<class 'pandas.core.frame.DataFrame'>\n",
            "RangeIndex: 12833 entries, 0 to 12832\n",
            "Data columns (total 8 columns):\n",
            " #   Column         Non-Null Count  Dtype  \n",
            "---  ------         --------------  -----  \n",
            " 0   Unnamed: 0     12833 non-null  int64  \n",
            " 1   property_type  12833 non-null  object \n",
            " 2   state          12833 non-null  object \n",
            " 3   region         12833 non-null  object \n",
            " 4   lat            12833 non-null  float64\n",
            " 5   lon            12833 non-null  float64\n",
            " 6   area_m2        12833 non-null  float64\n",
            " 7   price_brl      12833 non-null  float64\n",
            "dtypes: float64(4), int64(1), object(3)\n",
            "memory usage: 802.2+ KB\n"
          ]
        }
      ]
    },
    {
      "cell_type": "code",
      "source": [
        "import pandas as pd\n",
        "import numpy as np\n",
        "from sklearn.model_selection import train_test_split\n",
        "from sklearn.linear_model import ElasticNet, Lasso, Ridge\n",
        "from sklearn.svm import SVR\n",
        "from sklearn.ensemble import RandomForestRegressor, GradientBoostingRegressor\n",
        "from sklearn.metrics import mean_squared_error\n",
        "from sklearn.impute import SimpleImputer\n",
        "df.info()"
      ],
      "metadata": {
        "colab": {
          "base_uri": "https://localhost:8080/"
        },
        "id": "sZ9gnhfjkAvH",
        "outputId": "9c968cb3-ee28-4157-a08a-7f1a0a1e3098"
      },
      "execution_count": null,
      "outputs": [
        {
          "output_type": "stream",
          "name": "stdout",
          "text": [
            "<class 'pandas.core.frame.DataFrame'>\n",
            "RangeIndex: 12833 entries, 0 to 12832\n",
            "Data columns (total 8 columns):\n",
            " #   Column         Non-Null Count  Dtype  \n",
            "---  ------         --------------  -----  \n",
            " 0   Unnamed: 0     12833 non-null  int64  \n",
            " 1   property_type  12833 non-null  object \n",
            " 2   state          12833 non-null  object \n",
            " 3   region         12833 non-null  object \n",
            " 4   lat            12833 non-null  float64\n",
            " 5   lon            12833 non-null  float64\n",
            " 6   area_m2        12833 non-null  float64\n",
            " 7   price_brl      12833 non-null  float64\n",
            "dtypes: float64(4), int64(1), object(3)\n",
            "memory usage: 802.2+ KB\n"
          ]
        }
      ]
    }
  ]
}